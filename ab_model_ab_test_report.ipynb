{
 "cells": [
  {
   "cell_type": "markdown",
   "id": "57e186bf",
   "metadata": {},
   "source": [
    "# A/B Testing of Machine Learning Models: Model A vs Model B\n",
    "\n",
    "## Introduction\n",
    "\n",
    "Suppose we have a customer who is running a large-scale application powered by machine learning — such as a recommendation engine, fraud detection system, or real-time prediction service. They've recently developed a **new version of their model (Model B)** that shows improved performance on offline validation datasets.\n",
    "\n",
    "However, before deploying this new model to production, the customer needs to **validate whether Model B actually performs better in a live setting** — not just in theory or during training. Key concerns include:\n",
    "\n",
    "- Will the new model produce **more accurate predictions** for real users?\n",
    "- Will it **respond faster or slower** than the current version?\n",
    "- Are the improvements **statistically significant**, or due to random chance?\n",
    "\n",
    "To answer these questions, we simulate an **A/B testing framework** where both Model A (currently in production) and Model B (candidate model) receive randomized prediction requests. Each prediction is logged along with metadata like:\n",
    "\n",
    "- True label vs predicted value\n",
    "- Request latency (response time)\n",
    "- User ID and timestamp\n",
    "\n",
    "We will then:\n",
    "- Compare **accuracy rates** using a chi-square test\n",
    "- Compare **latency** using a t-test\n",
    "- Visualize the differences using bar charts and boxplots\n",
    "- Provide an evidence-based recommendation on whether Model B is ready for deployment\n",
    "\n",
    "This notebook serves as a template for how **data science and product teams can make safe, data-driven decisions before promoting a new machine learning model to production**.\n"
   ]
  },
  {
   "cell_type": "markdown",
   "id": "a71c57b4-0e96-45d0-b210-7acaecf8cc0a",
   "metadata": {},
   "source": [
    "## Load Required Libraries"
   ]
  },
  {
   "cell_type": "code",
   "execution_count": 1,
   "id": "dec6976d",
   "metadata": {},
   "outputs": [],
   "source": [
    "import pandas as pd\n",
    "import random\n",
    "import datetime\n",
    "import matplotlib.pyplot as plt\n",
    "from scipy.stats import chi2_contingency, ttest_ind\n",
    "import os"
   ]
  },
  {
   "cell_type": "markdown",
   "id": "164d4631",
   "metadata": {},
   "source": [
    "## 1. Simulate A/B Test Data\n",
    "\n",
    "To evaluate the performance of two machine learning models (Model A and Model B), we simulate realistic prediction logs using the `simulate_ab_test_data()` function.\n",
    "\n",
    "This function creates a dataset of 1,000 randomized prediction requests, each representing a simulated API call that includes:\n",
    "\n",
    "- **model_version**: Randomly assigned as either 'A' (current model) or 'B' (new model)\n",
    "- **true_label**: The actual correct class (0 or 1) for that prediction\n",
    "- **prediction**: What the model predicted; depends on its accuracy rate:\n",
    "  - Model A: 85% accurate\n",
    "  - Model B: 92% accurate\n",
    "- **success**: A boolean flag (True/False) indicating whether the prediction was correct\n",
    "- **latency**: Response time in milliseconds\n",
    "  - Model A is slower (80–150 ms)\n",
    "  - Model B is faster (70–130 ms)\n",
    "- **timestamp**: Time the request was made (simulated in 1-second intervals)\n",
    "- **user_id**: Simulated user identifier\n",
    "- **features**: A list of 3 random float values representing input features (for future expansion)\n",
    "\n",
    "This synthetic dataset allows us to simulate and test real-world deployment conditions — where both accuracy and latency play critical roles in model evaluation.\n"
   ]
  },
  {
   "cell_type": "code",
   "execution_count": 2,
   "id": "ea23f108",
   "metadata": {},
   "outputs": [
    {
     "data": {
      "text/html": [
       "<div>\n",
       "<style scoped>\n",
       "    .dataframe tbody tr th:only-of-type {\n",
       "        vertical-align: middle;\n",
       "    }\n",
       "\n",
       "    .dataframe tbody tr th {\n",
       "        vertical-align: top;\n",
       "    }\n",
       "\n",
       "    .dataframe thead th {\n",
       "        text-align: right;\n",
       "    }\n",
       "</style>\n",
       "<table border=\"1\" class=\"dataframe\">\n",
       "  <thead>\n",
       "    <tr style=\"text-align: right;\">\n",
       "      <th></th>\n",
       "      <th>request_id</th>\n",
       "      <th>user_id</th>\n",
       "      <th>model_version</th>\n",
       "      <th>prediction</th>\n",
       "      <th>true_label</th>\n",
       "      <th>success</th>\n",
       "      <th>latency</th>\n",
       "      <th>timestamp</th>\n",
       "      <th>features</th>\n",
       "    </tr>\n",
       "  </thead>\n",
       "  <tbody>\n",
       "    <tr>\n",
       "      <th>0</th>\n",
       "      <td>0</td>\n",
       "      <td>4657</td>\n",
       "      <td>A</td>\n",
       "      <td>0</td>\n",
       "      <td>0</td>\n",
       "      <td>True</td>\n",
       "      <td>111</td>\n",
       "      <td>2025-05-07 17:34:29.596042</td>\n",
       "      <td>[0.1395379285251439, 0.1024951761715075, 0.740...</td>\n",
       "    </tr>\n",
       "    <tr>\n",
       "      <th>1</th>\n",
       "      <td>1</td>\n",
       "      <td>4582</td>\n",
       "      <td>A</td>\n",
       "      <td>1</td>\n",
       "      <td>1</td>\n",
       "      <td>True</td>\n",
       "      <td>91</td>\n",
       "      <td>2025-05-07 17:34:30.596042</td>\n",
       "      <td>[0.2326608933907396, 0.6020187290499803, 0.561...</td>\n",
       "    </tr>\n",
       "    <tr>\n",
       "      <th>2</th>\n",
       "      <td>2</td>\n",
       "      <td>1106</td>\n",
       "      <td>B</td>\n",
       "      <td>0</td>\n",
       "      <td>0</td>\n",
       "      <td>True</td>\n",
       "      <td>87</td>\n",
       "      <td>2025-05-07 17:34:31.596042</td>\n",
       "      <td>[0.7588073671297673, 0.15965931637689013, 0.42...</td>\n",
       "    </tr>\n",
       "    <tr>\n",
       "      <th>3</th>\n",
       "      <td>3</td>\n",
       "      <td>6514</td>\n",
       "      <td>B</td>\n",
       "      <td>0</td>\n",
       "      <td>0</td>\n",
       "      <td>True</td>\n",
       "      <td>118</td>\n",
       "      <td>2025-05-07 17:34:32.596042</td>\n",
       "      <td>[0.10221027651984871, 0.3799273006373374, 0.35...</td>\n",
       "    </tr>\n",
       "    <tr>\n",
       "      <th>4</th>\n",
       "      <td>4</td>\n",
       "      <td>8527</td>\n",
       "      <td>B</td>\n",
       "      <td>1</td>\n",
       "      <td>1</td>\n",
       "      <td>True</td>\n",
       "      <td>116</td>\n",
       "      <td>2025-05-07 17:34:33.596042</td>\n",
       "      <td>[0.5362280914547007, 0.9731157639793706, 0.378...</td>\n",
       "    </tr>\n",
       "  </tbody>\n",
       "</table>\n",
       "</div>"
      ],
      "text/plain": [
       "   request_id  user_id model_version  prediction  true_label  success  \\\n",
       "0           0     4657             A           0           0     True   \n",
       "1           1     4582             A           1           1     True   \n",
       "2           2     1106             B           0           0     True   \n",
       "3           3     6514             B           0           0     True   \n",
       "4           4     8527             B           1           1     True   \n",
       "\n",
       "   latency                  timestamp  \\\n",
       "0      111 2025-05-07 17:34:29.596042   \n",
       "1       91 2025-05-07 17:34:30.596042   \n",
       "2       87 2025-05-07 17:34:31.596042   \n",
       "3      118 2025-05-07 17:34:32.596042   \n",
       "4      116 2025-05-07 17:34:33.596042   \n",
       "\n",
       "                                            features  \n",
       "0  [0.1395379285251439, 0.1024951761715075, 0.740...  \n",
       "1  [0.2326608933907396, 0.6020187290499803, 0.561...  \n",
       "2  [0.7588073671297673, 0.15965931637689013, 0.42...  \n",
       "3  [0.10221027651984871, 0.3799273006373374, 0.35...  \n",
       "4  [0.5362280914547007, 0.9731157639793706, 0.378...  "
      ]
     },
     "execution_count": 2,
     "metadata": {},
     "output_type": "execute_result"
    }
   ],
   "source": [
    "def simulate_ab_test_data(n=1000, seed=42):\n",
    "    random.seed(seed)\n",
    "    data = []\n",
    "    base_time = datetime.datetime.now()\n",
    "    \n",
    "    for i in range(n):\n",
    "        model = random.choice(['A', 'B'])\n",
    "        true_label = random.choice([0, 1])\n",
    "        prediction = true_label if random.random() < (0.85 if model == 'A' else 0.92) else 1 - true_label\n",
    "        success = prediction == true_label\n",
    "        latency = random.randint(80, 150) if model == 'A' else random.randint(70, 130)\n",
    "        timestamp = base_time + datetime.timedelta(seconds=i)\n",
    "        user_id = random.randint(1000, 9999)\n",
    "        features = [random.random() for _ in range(3)]\n",
    "        \n",
    "        data.append((i, user_id, model, prediction, true_label, success, latency, timestamp, features))\n",
    "    \n",
    "    return pd.DataFrame(data, columns=[\n",
    "        'request_id', 'user_id', 'model_version', 'prediction', \n",
    "        'true_label', 'success', 'latency', 'timestamp', 'features'])\n",
    "\n",
    "# Create and preview\n",
    "df = simulate_ab_test_data()\n",
    "df.head()"
   ]
  },
  {
   "cell_type": "markdown",
   "id": "5047866b",
   "metadata": {},
   "source": [
    "## 2. Summary Statistics\n",
    "\n",
    "Before we run any formal statistical tests, it’s important to understand the basic properties of our simulated data.\n",
    "\n",
    "- **Model Distribution**:  \n",
    "  We begin by checking how many prediction requests were routed to Model A vs Model B. Since model assignment is randomized, we expect the distribution to be roughly equal. This ensures fairness — both models have a similar number of opportunities to perform.\n",
    "\n",
    "- **Accuracy Comparison**:  \n",
    "  We calculate the average prediction success rate (i.e., accuracy) for each model. This gives us an initial look at how often each model returns the correct prediction:\n",
    "  \n",
    "$$\n",
    "\\text{Accuracy} = \\frac{\\text{Correct Predictions}}{\\text{Total Predictions}}\n",
    "$$\n",
    "\n",
    "  \n",
    "  Model B was designed to be more accurate than Model A, so we expect to see a higher success rate for B. However, this difference needs to be tested statistically to confirm it's not due to chance.\n",
    "\n",
    "These summary statistics provide the baseline we’ll use for more formal comparisons in the next steps.\n"
   ]
  },
  {
   "cell_type": "code",
   "execution_count": 3,
   "id": "c289368f",
   "metadata": {},
   "outputs": [
    {
     "name": "stdout",
     "output_type": "stream",
     "text": [
      "model_version\n",
      "B    516\n",
      "A    484\n",
      "Name: count, dtype: int64\n"
     ]
    },
    {
     "data": {
      "text/plain": [
       "model_version\n",
       "A    0.853306\n",
       "B    0.916667\n",
       "Name: success, dtype: float64"
      ]
     },
     "execution_count": 3,
     "metadata": {},
     "output_type": "execute_result"
    }
   ],
   "source": [
    "print(df['model_version'].value_counts())\n",
    "df.groupby('model_version')['success'].mean()"
   ]
  },
  {
   "cell_type": "markdown",
   "id": "c6072715",
   "metadata": {},
   "source": [
    "## 3. Chi-Square Test for Accuracy\n",
    "\n",
    "To evaluate whether the difference in accuracy between Model A and Model B is **statistically significant**, we use the **Chi-Square Test of Independence**.\n",
    "\n",
    "###  Why Chi-Square?\n",
    "\n",
    "The Chi-Square test is ideal for comparing **categorical variables** — in our case:\n",
    "- **Model version** (A or B)\n",
    "- **Prediction outcome** (`success = True` or `False`)\n",
    "\n",
    "It helps answer:  \n",
    "> *Is there an association between the model used and whether the prediction was correct?*\n",
    "\n",
    "---\n",
    "\n",
    "###  Hypotheses\n",
    "\n",
    "- **Null Hypothesis (H₀)**:  \n",
    "  The model version and prediction success are **independent**.  \n",
    "  → Any difference in accuracy is due to **random chance**.\n",
    "\n",
    "- **Alternative Hypothesis (H₁)**:  \n",
    "  The model version and prediction success are **not independent**.  \n",
    "  → One model is genuinely more accurate than the other.\n",
    "\n",
    "---\n",
    "\n",
    "###  Decision Rule\n",
    "\n",
    "We use the **p-value** from the test to guide our conclusion:\n",
    "\n",
    "- If **p < 0.05** → Reject H₀ → The difference **is statistically significant**\n",
    "- If **p ≥ 0.05** → Fail to reject H₀ → The difference could be due to chance\n",
    "\n",
    "---\n",
    "\n",
    "### Conclusion (Based on Our Test)\n",
    "\n",
    "In our simulation:\n",
    "- **p-value = 0.0023**\n",
    "- This is well below the threshold of 0.05\n",
    "\n",
    "** We reject the null hypothesis** and conclude that the accuracy difference between Model A and Model B is statistically significant.  \n",
    "Model B appears to be **genuinely more accurate** than Model A based on this simulated test.\n",
    "\n",
    "This finding strengthens the case for Model B — assuming other factors like latency and stability are also acceptable.\n"
   ]
  },
  {
   "cell_type": "code",
   "execution_count": 4,
   "id": "c98be7b2",
   "metadata": {},
   "outputs": [
    {
     "name": "stdout",
     "output_type": "stream",
     "text": [
      "Chi2 = 9.3092, p = 0.0023\n"
     ]
    }
   ],
   "source": [
    "contingency = pd.crosstab(df['model_version'], df['success'])\n",
    "chi2, p, dof, expected = chi2_contingency(contingency)\n",
    "print(f\"Chi2 = {chi2:.4f}, p = {p:.4f}\")"
   ]
  },
  {
   "cell_type": "markdown",
   "id": "0096227c",
   "metadata": {},
   "source": [
    "## 4. T-Test for Latency Comparison\n",
    "\n",
    "While the Chi-Square test was used for comparing **categorical outcomes** (success vs failure), we now want to compare a **numerical variable** — response **latency** — between Model A and Model B.\n",
    "\n",
    "To do this, we use the **Independent Two-Sample T-Test**.\n",
    "\n",
    "---\n",
    "\n",
    "### Why a T-Test?\n",
    "\n",
    "The **T-Test** is appropriate when comparing the **means of two independent groups** on a continuous outcome.  \n",
    "In our case:\n",
    "- Group 1 = Requests handled by **Model A**\n",
    "- Group 2 = Requests handled by **Model B**\n",
    "- Outcome = **Latency (in milliseconds)**\n",
    "\n",
    "This test helps answer:  \n",
    "> *Is there a significant difference in average response time between the two models?*\n",
    "\n",
    "---\n",
    "\n",
    "###  Hypotheses\n",
    "\n",
    "- **Null Hypothesis (H₀)**:  \n",
    "  The average latency for Model A and Model B is **equal**.  \n",
    "  → Any difference is due to **random variation**.\n",
    "\n",
    "- **Alternative Hypothesis (H₁)**:  \n",
    "  The average latency for Model A and Model B is **not equal**.  \n",
    "  → One model is **faster or slower** than the other.\n",
    "\n",
    "> This is a **two-tailed test**, meaning we’re open to either model being faster or slower.\n",
    "\n",
    "---\n",
    "\n",
    "###  Decision Rule\n",
    "\n",
    "We evaluate the **p-value** from the t-test:\n",
    "\n",
    "- If **p < 0.05** → Reject H₀ → The latency difference is **statistically significant**\n",
    "- If **p ≥ 0.05** → Fail to reject H₀ → No meaningful difference in average latency\n",
    "\n",
    "---\n",
    "\n",
    "###  Conclusion (Based on Our Test)\n",
    "\n",
    "Our results showed:\n",
    "\n",
    "- **T-statistic = 11.83**\n",
    "- **p-value = 0.0000**\n",
    "\n",
    "Since the p-value is far below 0.05, we **reject the null hypothesis**.  \n",
    "This indicates a **significant difference in response times** between the models.\n",
    "\n",
    "In our simulation, **Model B responds faster on average** than Model A — making it favorable not only in terms of accuracy, but also latency.\n"
   ]
  },
  {
   "cell_type": "code",
   "execution_count": 5,
   "id": "de5ea9d3",
   "metadata": {},
   "outputs": [
    {
     "name": "stdout",
     "output_type": "stream",
     "text": [
      "T-stat = 11.8268, p = 0.0000\n"
     ]
    }
   ],
   "source": [
    "lat_A = df[df['model_version'] == 'A']['latency']\n",
    "lat_B = df[df['model_version'] == 'B']['latency']\n",
    "t_stat, p_val = ttest_ind(lat_A, lat_B)\n",
    "print(f\"T-stat = {t_stat:.4f}, p = {p_val:.4f}\")"
   ]
  },
  {
   "cell_type": "markdown",
   "id": "5e4a383f",
   "metadata": {},
   "source": [
    "## 5. Accuracy Plot\n",
    "\n",
    "The bar chart below presents a **side-by-side comparison** of the accuracy rates for Model A and Model B.\n",
    "\n",
    "Although the result is expected — since we simulated the data with Model A at 85% and Model B at 92% accuracy — this step demonstrates **how accuracy differences are typically visualized** in real-world A/B testing workflows.\n",
    "\n",
    "Key points:\n",
    "- The height of each bar represents the **proportion of correct predictions** (i.e., accuracy).\n",
    "- This visual complements the **statistical test results**, providing an intuitive way for stakeholders to compare model performance.\n",
    "- Even in practice, such plots are valuable for spotting **large effect sizes** or validating that statistical differences are practically meaningful.\n",
    "\n",
    "In production scenarios, such visual summaries often accompany formal hypothesis tests when reporting model evaluations to business or engineering teams.\n"
   ]
  },
  {
   "cell_type": "code",
   "execution_count": 6,
   "id": "dd1de2ae",
   "metadata": {},
   "outputs": [
    {
     "data": {
      "image/png": "[encoded data removed]",
      "text/plain": [
       "<Figure size 640x480 with 1 Axes>"
      ]
     },
     "metadata": {},
     "output_type": "display_data"
    }
   ],
   "source": [
    "accuracy_by_model = df.groupby('model_version')['success'].mean()\n",
    "accuracy_by_model.plot(kind='bar', title='Model Accuracy')\n",
    "plt.ylabel('Accuracy')\n",
    "plt.show()"
   ]
  },
  {
   "cell_type": "markdown",
   "id": "7c3e07aa",
   "metadata": {},
   "source": [
    "## 6. Latency Plot\n",
    "\n",
    "The boxplot below displays the **distribution of response times (latency)** for Model A and Model B.\n",
    "\n",
    "Each box summarizes:\n",
    "- The **median** response time (central line)\n",
    "- The **interquartile range (IQR)** — middle 50% of values\n",
    "- Any **outliers** as individual points\n",
    "\n",
    "Since our simulation intentionally made Model B faster (70–130 ms) than Model A (80–150 ms), we expected to see a difference — and this visualization confirms it.\n",
    "\n",
    "More importantly, this plot illustrates how we would **visually compare response times** across models in a real deployment scenario. Key observations:\n",
    "- **Model B's latency box is lower and narrower**, suggesting it's not only faster but more consistent.\n",
    "- This complements the **statistically significant p-value** from the T-test and helps communicate results to non-technical stakeholders.\n",
    "- Such latency comparisons are crucial in real-time systems, where response speed can directly impact user experience or operational throughput.\n",
    "\n",
    "In practice, pairing statistical evidence with intuitive visualizations ensures our recommendations are both analytically sound and accessible to a broad audience.\n"
   ]
  },
  {
   "cell_type": "code",
   "execution_count": 7,
   "id": "4e8f01e8",
   "metadata": {},
   "outputs": [
    {
     "data": {
      "image/png": "[encoded data removed]",
      "text/plain": [
       "<Figure size 640x480 with 1 Axes>"
      ]
     },
     "metadata": {},
     "output_type": "display_data"
    }
   ],
   "source": [
    "df.boxplot(column='latency', by='model_version')\n",
    "plt.title('Latency by Model')\n",
    "plt.suptitle('')\n",
    "plt.ylabel('Milliseconds')\n",
    "plt.show()"
   ]
  },
  {
   "cell_type": "markdown",
   "id": "cea8e6bb",
   "metadata": {},
   "source": [
    "## 7. Conclusion\n",
    "\n",
    "In real-world machine learning deployment scenarios, introducing a new model is not just about achieving better offline metrics — it's about ensuring that the new solution delivers measurable improvements in a live environment without introducing operational risks. In this project, we simulated an A/B testing framework to evaluate the performance of two machine learning models: Model A (currently in production) and Model B (a proposed replacement).\n",
    "\n",
    "Our simulation generated 1,000 prediction requests, randomly assigning them to either model. For each request, we tracked the predicted label, true label, whether the prediction was correct, and the response latency in milliseconds. Model B was intentionally designed to be more accurate and faster, mimicking a common scenario where a newly trained model appears superior based on validation results but needs further testing before deployment.\n",
    "\n",
    "To assess performance, we used both descriptive and inferential statistics. First, we computed the accuracy of each model by averaging the prediction success rate. Model A achieved approximately 85.3% accuracy, while Model B reached 91.7%. We then conducted a Chi-Square Test of Independence to determine if this difference was statistically significant. With a p-value of 0.0023, we confidently rejected the null hypothesis and concluded that Model B's accuracy advantage was not due to random chance.\n",
    "\n",
    "We also compared latency between the two models using an independent two-sample t-test. Model A had slower and more variable response times compared to Model B. The t-test yielded a p-value of 0.0000, confirming that the latency difference was highly significant. Visualization through bar plots and boxplots reinforced these findings, offering an intuitive view of the model performance differences.\n",
    "\n",
    "This analysis mirrors a practical decision-making pipeline in machine learning operations: combining statistical rigor with reproducible simulation, clear visual communication, and a performance-first mindset. Our results strongly support promoting Model B to production, as it is not only more accurate but also more responsive. This kind of evidence-based validation protects against blind deployment and ensures that improvements are both real and reliable.\n",
    "\n",
    "Overall, this project demonstrates how A/B testing, when applied thoughtfully in machine learning, bridges the gap between experimental promise and real-world performance. It highlights the importance of statistical testing, performance monitoring, and simulation in modern MLOps workflows.\n"
   ]
  }
 ],
 "metadata": {
  "kernelspec": {
   "display_name": "Python 3 (ipykernel)",
   "language": "python",
   "name": "python3"
  },
  "language_info": {
   "codemirror_mode": {
    "name": "ipython",
    "version": 3
   },
   "file_extension": ".py",
   "mimetype": "text/x-python",
   "name": "python",
   "nbconvert_exporter": "python",
   "pygments_lexer": "ipython3",
   "version": "3.12.5"
  }
 },
 "nbformat": 4,
 "nbformat_minor": 5
}
